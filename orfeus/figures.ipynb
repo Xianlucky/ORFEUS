{
 "cells": [
  {
   "cell_type": "markdown",
   "metadata": {},
   "source": [
    "# Supplementary Information and Figures\n",
    "\n",
    "This file contains information about the data sources and pre-processing steps in\n",
    "Richardson & Eddy, 2023. All figures can be reproduced using this code."
   ]
  },
  {
   "cell_type": "code",
   "execution_count": null,
   "metadata": {},
   "outputs": [],
   "source": [
    "# Import packages for data wrangling\n",
    "import numpy as np\n",
    "import pandas as pd\n",
    "import itertools as it\n",
    "import functools as ft\n",
    "\n",
    "# Import custom functions\n",
    "import import_data as orfdata\n",
    "import parameters_set as orfparams\n",
    "import output_plots as orfplt"
   ]
  },
  {
   "cell_type": "markdown",
   "metadata": {},
   "source": [
    "# Download data\n",
    "\n",
    "1. Download reference genome sequences (fasta) and ncRNA sequences\n",
    "2. Use the provided annotation files (gtf)"
   ]
  },
  {
   "cell_type": "markdown",
   "metadata": {},
   "source": [
    "### SARS-CoV-2\n",
    "1. Download genome version ASM985889v3: https://covid-19.ensembl.org/info/data/index.html\n",
    "2. Use `data/coronavirus/annotations.gtf`"
   ]
  },
  {
   "cell_type": "markdown",
   "metadata": {},
   "source": [
    "### E. coli\n",
    "\n",
    "1. Download genome version ASM584v2: https://bacteria.ensembl.org/Escherichia_coli_str_k_12_substr_mg1655_gca_000005845/Info/Index/\n",
    "2. Use `data/ecoli/annotations.gtf`\n",
    "    - NOTE: I manually updated the +1 PRF annotation that skipped the gap nucleotide to include it (merged exons)\n",
    "    - NOTE: I added the 5’UTRs and 3’UTRs from RegulonDB to the annotations gtf file"
   ]
  },
  {
   "cell_type": "markdown",
   "metadata": {},
   "source": [
    "### S. cerevisiae\n",
    "\n",
    "1. Download genome version R64-1-1: https://ensembl.org/Saccharomyces_cerevisiae/Info/Index\n",
    "2. Use `data/scerevisiae/annotations.gtf`\n",
    "    - NOTE: I manually updated the +1 PRF annotations that skipped the gap nucleotide to include it (merged exons)\n",
    "and added the first exon (single codon) for RPL20A and RPL20B\n",
    "    - NOTE: I added the 5’UTRs and 3’UTRs from Nagalakshmi et al. to the annotations gtf file"
   ]
  },
  {
   "cell_type": "markdown",
   "metadata": {},
   "source": [
    "### D. melanogaster\n",
    "\n",
    "1. Download genome version BDGP6.32: https://ensembl.org/Drosophila_melanogaster/Info/Index\n",
    "2. Use `data/dmelanogaster/annotations.gtf`"
   ]
  },
  {
   "cell_type": "markdown",
   "metadata": {},
   "source": [
    "### D. rerio\n",
    "\n",
    "1. Download genome version GRCz11: https://ensembl.org/Danio_rerio/Info/Index\n",
    "2. Use `data/drerio/annotations.gtf`"
   ]
  },
  {
   "cell_type": "markdown",
   "metadata": {},
   "source": [
    "# Process data\n",
    "\n",
    "1. Align riboseq reads to the genome. Trim adapter sequences and filter by read quality and length as appropriate. Remove hits to ncRNA and contaminating genomes as appropriate. This step is not performed by ORFeus.\n",
    "\n",
    "2. Generate bedgraph (.bg) or wiggle (.wig) format files with the number of reads at each P-site. Existing software tools can help offset reads to the P-site and export strand-specific bg/wig files. Our offsetting was done using Shoelaces (https://bitbucket.org/valenlab/shoelaces/). This step is not performed by ORFeus.\n",
    "\n",
    "3. Run the first step of ORFeus to process the data and build the model."
   ]
  },
  {
   "cell_type": "markdown",
   "metadata": {},
   "source": [
    "### SARS-CoV-2\n",
    "\n",
    "1. Align data from Finkel et al, 2021: \n",
    "`sbatch supplements/alignment_star.sh -a CTGTAGGCACCATCAAT -q 20 -m 28 -M 30 -r SRR12216748 -r SRR12216749 -r SRR12216750 data/coronavirus/ncrna.fa data/hsapiens/dna.fa data/coronavirus/dna.fa data/coronavirus/annotations.gtf data/coronavirus/`\n",
    "\n",
    "2. Offset reads to P-site: shift reads 5'+14nt\n",
    "\n",
    "3. Process data:\n",
    "`python orfeus/build.py data/coronavirus/Finkel2021_forward.wig data/coronavirus/Finkel2021_reverse.wig data/coronavirus/dna.fa data/coronavirus/annotations.gtf -o data/coronavirus/`"
   ]
  },
  {
   "cell_type": "markdown",
   "metadata": {},
   "source": [
    "### E. coli\n",
    "\n",
    "1. Align data from Hwang & Buskirk, 2017:\n",
    "`sbatch supplements/alignment_bowtie.sh -u -a CTGTAGGCACCATCAATAGATCGGAAGAGCACACGTCTGAACTCCAGTCA -q 20 -m 20 -M 40 -r SRR4023281 data/ecoli/ladder.fa data/ecoli/ncrna.fa data/ecoli/dna.fa data/ecoli/annotations.gtf data/ecoli/`\n",
    "\n",
    "2. Offset reads to P-site: shift reads 3'-3nt\n",
    "\n",
    "3. Process data:\n",
    "`python orfeus/build.py data/ecoli/Hwang2017_forward.wig data/ecoli/Hwang2017_reverse.wig data/ecoli/dna.fa data/ecoli/annotations.gtf -o data/ecoli/`"
   ]
  },
  {
   "cell_type": "markdown",
   "metadata": {},
   "source": [
    "### S. cerevisiae\n",
    "\n",
    "1. Align data from Wu et al, 2019:\n",
    "`sbatch supplements/alignment_bowtie.sh -u -a CTGTAGGCACCATCAAT -q 20 -m 28 -M 28 -r SRR7241903 -r SRR7241904 data/scerevisiae/ladder.fa data/scerevisiae/ncrna.fa data/scerevisiae/dna.fa data/scerevisiae/annotations.gtf data/scerevisiae/`\n",
    "\n",
    "2. Offset reads to P-site: shift reads 5'+14nt\n",
    "\n",
    "3. Process data:\n",
    "`python orfeus/build.py data/scerevisiae/Wu2019_forward.wig data/scerevisiae/Wu2019_reverse.wig data/scerevisiae/dna.fa data/scerevisiae/annotations.gtf -o data/scerevisiae/`"
   ]
  },
  {
   "cell_type": "markdown",
   "metadata": {},
   "source": [
    "### D. melanogaster\n",
    "\n",
    "1. Align data from Dunn et al, 2013:\n",
    "`sbatch supplements/alignment_star.sh -a CTGTAGGCACCATCAAT -q 20 -m 20 -M 40 -r SRR942868 -r SRR942869 -r SRR942870 -r SRR942871 -r SRR942874 -r SRR942875 -r SRR942876 -r SRR942877 data/dmelanogaster/ladder.fa data/dmelanogaster/ncrna.fa data/dmelanogaster/dna.fa data/dmelanogaster/annotations.gtf data/dmelanogaster/`\n",
    "\n",
    "2. Offset reads to P-site: shift reads 5'+16nt\n",
    "\n",
    "3. Process data:\n",
    "`python orfeus/build.py data/dmelanogaster/Dunn2013_forward.wig data/dmelanogaster/Dunn2013_reverse.wig data/dmelanogaster/dna.fa data/dmelanogaster/annotations.gtf -o data/dmelanogaster/`"
   ]
  },
  {
   "cell_type": "markdown",
   "metadata": {},
   "source": [
    "### D. rerio\n",
    "\n",
    "1. Align data from Dunn et al, 2013:\n",
    "`sbatch alignment_star.sh -a AGATCGGAAGAGCACACGTCT -q 20 -m 20 -M 30 -r SRR1062294 -r SRR1062295 -r SRR1062296 -r SRR1062297 -r SRR1062298 -r SRR1062299 -r SRR1062300 -r SRR1062301 -r SRR1062302 ../data/drerio/ladder.fa ../data/drerio/ncrna.fa ../data/drerio/dna.fa ../data/drerio/annotations.gtf ../data/drerio/`\n",
    "\n",
    "2. Offset reads to P-site: shift reads 5'+12nt\n",
    "\n",
    "3. Process data:\n",
    "`python orfeus/build.py data/drerio/Bazzini2014_forward.wig data/drerio/Bazzini2014_reverse.wig data/drerio/dna.fa data/drerio/annotations.gtf -o data/drerio/`"
   ]
  },
  {
   "cell_type": "markdown",
   "metadata": {},
   "source": [
    "# Import data\n",
    "\n",
    "Import the processed data and set the parameters."
   ]
  },
  {
   "cell_type": "code",
   "execution_count": null,
   "metadata": {},
   "outputs": [],
   "source": [
    "# Set data file (choose one processed data set)\n",
    "data_file = '../data/coronavirus/data.txt.gz'\n",
    "#data_file = '../data/ecoli/data.txt.gz'\n",
    "#data_file = '../data/scerevisiae/data.txt.gz'\n",
    "#data_file = '../data/dmelanogaster/data.txt.gz'\n",
    "#data_file = '../data/drerio/data.txt.gz'\n",
    "\n",
    "# Import the data set\n",
    "data_df = orfdata.read_data_file(data_file)\n",
    "\n",
    "# Preview the data set\n",
    "data_df[data_df['feature']=='ORF']"
   ]
  },
  {
   "cell_type": "markdown",
   "metadata": {},
   "source": [
    "# Set parameters\n",
    "\n",
    "This step is the same for all data sets. This section and all following plotting code must be run for one dataset at a time."
   ]
  },
  {
   "cell_type": "code",
   "execution_count": null,
   "metadata": {},
   "outputs": [],
   "source": [
    "# Constants\n",
    "NUCLEOTIDES = ['A','C','G','T']\n",
    "CODONS = [''.join(i) for i in it.product(NUCLEOTIDES, repeat = 3)]"
   ]
  },
  {
   "cell_type": "code",
   "execution_count": null,
   "metadata": {},
   "outputs": [],
   "source": [
    "# Probability of PRF\n",
    "alpha = 1e-5          # Suggested 1e-5\n",
    "\n",
    "# Probability of -1 PRF given a PRF\n",
    "# 0.5 indicates +1 and -1 frameshifts are equally likely \n",
    "beta = 0.5            # Suggested 0.5\n",
    "\n",
    "# Probability of stop codon readthrough\n",
    "gamma = 1e-4          # Suggested 1e-4\n",
    "\n",
    "# Probability of uORFs or dORFs\n",
    "delta = 1e-3          # Suggested 1e-3\n",
    "\n",
    "# Probabiliy of multiple non-overlapping ORFs\n",
    "zeta = 1e-10          # Suggested 1e-10"
   ]
  },
  {
   "cell_type": "code",
   "execution_count": null,
   "metadata": {},
   "outputs": [],
   "source": [
    "# Fraction of transcripts expected to have 5'UTRs\n",
    "f_5UTR = None         # Default is to calculate from data set\n",
    "\n",
    "# Fraction of transcripts expected to have 3'UTRs\n",
    "f_3UTR = None         # Default is to calculate from data set\n",
    "\n",
    "# Expected mean length of 5'UTRs (nts)\n",
    "len_5UTR = None       # Default is to calculate from data set\n",
    "\n",
    "# Expected mean length of 3'UTRs (nts)\n",
    "len_3UTR = None       # Default is to calculate from data set\n",
    "\n",
    "# Expected mean length of ORFs (nts)\n",
    "len_orf = None        # Default is to calculate from data set\n",
    "\n",
    "# Expected mean length of uORFs (nts)\n",
    "len_uorf = 50         # Suggested 50\n",
    "\n",
    "# Expected mean length of dORFs (nts)\n",
    "len_dorf = 50         # Suggested 50\n",
    "\n",
    "# Start codons to consider\n",
    "#start_codons = None  # Calculate from data set\n",
    "start_codons=['ATG']\n",
    "\n",
    "# Stop codons to consider\n",
    "#stop_codons = None  # Calculate from data set\n",
    "stop_codons=['TAA','TAG','TGA']\n",
    "\n",
    "# Sense codons to consider (be sure to exclude stop codons)\n",
    "#sense_codons = None  # Calculate from data set\n",
    "sense_codons=list(filter(lambda i: i not in ['TAA','TAG','TGA'], CODONS))"
   ]
  },
  {
   "cell_type": "code",
   "execution_count": null,
   "metadata": {},
   "outputs": [],
   "source": [
    "# Number of bins to use for rho emissions\n",
    "num_bins = 25        # Suggested 25\n",
    "\n",
    "# Whether to bin rho emissions in logspace\n",
    "logspace = False     # Suggested False\n",
    "\n",
    "# Set parameters based on only transcripts with at \n",
    "# least this many mean reads per transcript (minimum)\n",
    "min_coverage = -1       # Suggested -1\n",
    "\n",
    "# Set parameters based on only transcripts with at \n",
    "# most this many mean reads per transcript (maximum)\n",
    "max_coverage = np.inf   # Suggested np.inf\n",
    "\n",
    "# Whether to pool all codons of a given type (start, stop, sense)\n",
    "# when calculating rho emissions\n",
    "pool = False         # Suggested False\n",
    "\n",
    "# Whether to fit a log-normal distribution to the rho emissions\n",
    "fit = False          # Suggested False"
   ]
  },
  {
   "cell_type": "code",
   "execution_count": null,
   "metadata": {},
   "outputs": [],
   "source": [
    "# Set model parameters\n",
    "parameters_h1 = orfparams.set_parameters(data_df,\n",
    "                                         f_5UTR,\n",
    "                                         f_3UTR,\n",
    "                                         len_5UTR,\n",
    "                                         len_3UTR,\n",
    "                                         len_orf,\n",
    "                                         len_uorf,\n",
    "                                         len_dorf,\n",
    "                                         start_codons,\n",
    "                                         sense_codons,\n",
    "                                         stop_codons,\n",
    "                                         num_bins,\n",
    "                                         logspace,\n",
    "                                         min_coverage,\n",
    "                                         max_coverage,\n",
    "                                         pool,\n",
    "                                         fit,\n",
    "                                         [alpha, beta, gamma, delta, zeta])\n",
    "\n",
    "parameters_h0 = orfparams.set_parameters(data_df,\n",
    "                                         f_5UTR,\n",
    "                                         f_3UTR,\n",
    "                                         len_5UTR,\n",
    "                                         len_3UTR,\n",
    "                                         len_orf,\n",
    "                                         len_uorf,\n",
    "                                         len_dorf,\n",
    "                                         start_codons,\n",
    "                                         sense_codons,\n",
    "                                         stop_codons,\n",
    "                                         num_bins,\n",
    "                                         logspace,\n",
    "                                         min_coverage,\n",
    "                                         max_coverage,\n",
    "                                         pool,\n",
    "                                         fit,\n",
    "                                         [0, 0, 0, 0, 0])"
   ]
  },
  {
   "cell_type": "markdown",
   "metadata": {},
   "source": [
    "# Plot results"
   ]
  },
  {
   "cell_type": "markdown",
   "metadata": {},
   "source": [
    "### SARS-CoV-2\n",
    "\n",
    "Run the above code for the coronavirus data set before running this section."
   ]
  },
  {
   "cell_type": "code",
   "execution_count": null,
   "metadata": {},
   "outputs": [],
   "source": [
    "# Total read count for whole data set\n",
    "print('Total read count: %i' % sum(data_df['reads']))\n",
    "\n",
    "# Metagene plot\n",
    "window = 30\n",
    "signal_start, signal_stop = orfplt.calculate_metagene_signal(data_df, window)\n",
    "orfplt.plot_metagene_signal(signal_start, signal_stop, window, '../data/coronavirus/Finkel2021_metagene')"
   ]
  },
  {
   "cell_type": "code",
   "execution_count": null,
   "metadata": {},
   "outputs": [],
   "source": [
    "# ORF1ab (-1 PRF)\n",
    "transcript_id = 'ENSSAST00005000002'\n",
    "transcript_name = 'ORF1ab'\n",
    "\n",
    "orfplt.orfeus(data_df, transcript_id, transcript_name, parameters_h0, parameters_h1, \n",
    "              suppress=False, debug=False, subcodon=True)"
   ]
  },
  {
   "cell_type": "markdown",
   "metadata": {},
   "source": [
    "### E. coli\n",
    "\n",
    "Run the above code for the E. coli data set before running this section."
   ]
  },
  {
   "cell_type": "code",
   "execution_count": null,
   "metadata": {},
   "outputs": [],
   "source": [
    "# Total read count for whole data set\n",
    "print('Total read count: %i' % sum(data_df['reads']))\n",
    "\n",
    "# Metagene plot\n",
    "window = 30\n",
    "signal_start, signal_stop = orfplt.calculate_metagene_signal(data_df, window)\n",
    "orfplt.plot_metagene_signal(signal_start, signal_stop, window, '../data/ecoli/Hwang2017_metagene')\n"
   ]
  },
  {
   "cell_type": "code",
   "execution_count": null,
   "metadata": {},
   "outputs": [],
   "source": [
    "# prfB (+1 PRF)\n",
    "transcript_id = 'AAC75929'\n",
    "transcript_name = 'prfB'\n",
    "\n",
    "orfplt.orfeus(data_df, transcript_id, transcript_name, parameters_h0, parameters_h1, \n",
    "              suppress=False, debug=False, subcodon=True)"
   ]
  },
  {
   "cell_type": "markdown",
   "metadata": {},
   "source": [
    "### S. cerevisiae\n",
    "\n",
    "Run the above code for the S. cerevisiae data set before running this section."
   ]
  },
  {
   "cell_type": "code",
   "execution_count": null,
   "metadata": {},
   "outputs": [],
   "source": [
    "# Total read count for whole data set\n",
    "print('Total read count: %i' % sum(data_df['reads']))\n",
    "\n",
    "# Metagene plot\n",
    "window = 30\n",
    "signal_start, signal_stop = orfplt.calculate_metagene_signal(data_df, window)\n",
    "orfplt.plot_metagene_signal(signal_start, signal_stop, window, '../data/scerevisiae/Wu2019_metagene')"
   ]
  },
  {
   "cell_type": "code",
   "execution_count": null,
   "metadata": {},
   "outputs": [],
   "source": [
    "# Total read count for single housekeeping gene\n",
    "df = data_df[data_df['transcript_name']=='PDA1']\n",
    "print('Total read count: %i' % sum(df['reads']))\n",
    "\n",
    "# Single-gene plot\n",
    "window = 30\n",
    "signal_start, signal_stop = orfplt.calculate_metagene_signal(df, window)\n",
    "orfplt.plot_metagene_signal(signal_start, signal_stop, window, '../data/scerevisiae/Wu2019_PDA1')"
   ]
  },
  {
   "cell_type": "code",
   "execution_count": null,
   "metadata": {},
   "outputs": [],
   "source": [
    "# GCN4 (uORFs)\n",
    "transcript_id = 'YEL009C_mRNA'\n",
    "transcript_name = 'GCN4'\n",
    "\n",
    "orfplt.orfeus(data_df, transcript_id, transcript_name, parameters_h0, parameters_h1, \n",
    "              suppress=False, debug=False, subcodon=True)"
   ]
  },
  {
   "cell_type": "markdown",
   "metadata": {},
   "source": [
    "### D. melanogaster\n",
    "\n",
    "Run the above code for the D. melanogaster data set before running this section."
   ]
  },
  {
   "cell_type": "code",
   "execution_count": null,
   "metadata": {},
   "outputs": [],
   "source": [
    "# Total read count for whole data set\n",
    "print('Total read count: %i' % sum(data_df['reads']))\n",
    "\n",
    "# Metagene plot\n",
    "window = 30\n",
    "signal_start, signal_stop = orfplt.calculate_metagene_signal(data_df, window)\n",
    "orfplt.plot_metagene_signal(signal_start, signal_stop, window, '../data/dmelanogaster/Dunn2013_metagene')"
   ]
  },
  {
   "cell_type": "code",
   "execution_count": null,
   "metadata": {},
   "outputs": [],
   "source": [
    "# hdc-RC (SCR)\n",
    "transcript_id = 'FBtr0085621'\n",
    "transcript_name = 'hdc-RC'\n",
    "\n",
    "orfplt.orfeus(data_df, transcript_id, transcript_name, parameters_h0, parameters_h1, \n",
    "              suppress=False, debug=False, subcodon=True)"
   ]
  },
  {
   "cell_type": "markdown",
   "metadata": {},
   "source": [
    "### D. rerio\n",
    "\n",
    "Run the above code for the D. rerio data set before running this section."
   ]
  },
  {
   "cell_type": "code",
   "execution_count": null,
   "metadata": {},
   "outputs": [],
   "source": [
    "# Total read count for whole data set\n",
    "print('Total read count: %i' % sum(data_df['reads']))\n",
    "\n",
    "# Metagene plot\n",
    "window = 30\n",
    "signal_start, signal_stop = orfplt.calculate_metagene_signal(data_df, window)\n",
    "orfplt.plot_metagene_signal(signal_start, signal_stop, window, '../data/drerio/Bazzini2014_metagene')"
   ]
  },
  {
   "cell_type": "code",
   "execution_count": null,
   "metadata": {},
   "outputs": [],
   "source": [
    "# rrm1 (dORF)\n",
    "transcript_id = 'ENSDART00000012091'\n",
    "transcript_name = 'rrm1'\n",
    "\n",
    "orfplt.orfeus(data_df, transcript_id, transcript_name, parameters_h0, parameters_h1, \n",
    "              suppress=False, debug=False, subcodon=True)"
   ]
  },
  {
   "cell_type": "markdown",
   "metadata": {},
   "source": [
    "# Plot simulation\n",
    "\n",
    "Results from the simulation using parameters trained on S. cerevisiae (Wu et al, 2019) data are in `data/scerevisiae/coverage`.\n",
    "\n",
    "These results were generated with `python orfeus/build.py data/scerevisiae/Wu2019_forward.wig data/scerevisiae/Wu2019_reverse.wig data/scerevisiae/dna.fa data/scerevisiae/annotations.gtf -o data/scerevisiae/ -c --iters 100`"
   ]
  },
  {
   "cell_type": "code",
   "execution_count": null,
   "metadata": {},
   "outputs": [],
   "source": [
    "pPRF = pd.read_table('../data/scerevisiae/coverage/sensitivity_pPRF.txt', sep=' ', index_col=0, usecols=[0,3])\n",
    "mPRF = pd.read_table('../data/scerevisiae/coverage/sensitivity_mPRF.txt', sep=' ', index_col=0, usecols=[0,3])\n",
    "SCR  = pd.read_table('../data/scerevisiae/coverage/sensitivity_SCR.txt', sep=' ', index_col=0, usecols=[0,3])\n",
    "uORFdORF = pd.read_table('../data/scerevisiae/coverage/sensitivity_uORFdORF.txt', sep=' ', index_col=0, usecols=[0,3])\n",
    "ORF = pd.read_table('../data/scerevisiae/coverage/sensitivity_ORF.txt', sep=' ', index_col=0, usecols=[0,3])\n",
    "\n",
    "results = ft.reduce(lambda A,B: pd.merge(A, B, left_index=True, right_index=True), \n",
    "                    [uORFdORF, pPRF, mPRF, SCR, ORF])\n",
    "\n",
    "sensitivities = results.to_dict()\n",
    "orfplt.plot_results(sensitivities, 'Sensitivity', '../data/scerevisiae/coverage/sensitivity')\n"
   ]
  },
  {
   "cell_type": "code",
   "execution_count": null,
   "metadata": {},
   "outputs": [],
   "source": [
    "pPRF = pd.read_table('../data/scerevisiae/coverage/specificity_pPRF.txt', sep=' ', index_col=0, usecols=[0,3])\n",
    "mPRF = pd.read_table('../data/scerevisiae/coverage/specificity_mPRF.txt', sep=' ', index_col=0, usecols=[0,3])\n",
    "SCR  = pd.read_table('../data/scerevisiae/coverage/specificity_SCR.txt', sep=' ', index_col=0, usecols=[0,3])\n",
    "uORFdORF = pd.read_table('../data/scerevisiae/coverage/specificity_uORFdORF.txt', sep=' ', index_col=0, usecols=[0,3])\n",
    "\n",
    "results = ft.reduce(lambda A,B: pd.merge(A, B, left_index=True, right_index=True), \n",
    "                    [uORFdORF, pPRF, mPRF, SCR])\n",
    "\n",
    "specificities = results.to_dict()\n",
    "orfplt.plot_results(specificities, 'Specificity', '../data/scerevisiae/coverage/specificity')\n"
   ]
  },
  {
   "cell_type": "code",
   "execution_count": null,
   "metadata": {},
   "outputs": [],
   "source": [
    "results = pd.read_table('../data/scerevisiae/coverage/coverage_counts.txt', sep=' ', index_col=0, usecols=[0,4])\n",
    "\n",
    "coverage_counts = results['least'].to_dict()\n",
    "orfplt.plot_transcript_coverage(coverage_counts, '../data/scerevisiae/coverage/coverage_counts')"
   ]
  },
  {
   "cell_type": "code",
   "execution_count": null,
   "metadata": {},
   "outputs": [],
   "source": []
  }
 ],
 "metadata": {
  "kernelspec": {
   "display_name": "Python 3",
   "language": "python",
   "name": "python3"
  },
  "language_info": {
   "codemirror_mode": {
    "name": "ipython",
    "version": 3
   },
   "file_extension": ".py",
   "mimetype": "text/x-python",
   "name": "python",
   "nbconvert_exporter": "python",
   "pygments_lexer": "ipython3",
   "version": "3.7.4"
  }
 },
 "nbformat": 4,
 "nbformat_minor": 1
}
